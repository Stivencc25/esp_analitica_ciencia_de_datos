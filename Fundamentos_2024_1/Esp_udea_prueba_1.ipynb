{
 "cells": [
  {
   "attachments": {},
   "cell_type": "markdown",
   "metadata": {},
   "source": [
    "Grupo 7\n",
    "\n",
    "Integrates:\n",
    "* Yohiner Andrés Borja Góez\n",
    "* María Camila Duarte Foronda\n",
    "* Stiven Cadavid Cataño\n"
   ]
  },
  {
   "attachments": {},
   "cell_type": "markdown",
   "metadata": {},
   "source": [
    "## **Ejercicio 1** (50 pts)\n",
    "\n",
    "Escriba una clase `Pedido` que pueda ser usada para gestionar la información de los pedidos realizados a una pastelería (o carnicería o tienda de ropa o empresa que ud desee). Evite usar módulos como numpy, pandas o cualquier otro.\n",
    "\n",
    "### **Rubrica**:\n",
    "1. Generación de la clase que funcione correctamente con al menos 2 métodos y 2 atributos. **30 pts**.\n",
    "2. Comentarios y  documentación que sirva para quien deba usar la clase. **5 pts**.\n",
    "3. Pertinencia de la clase en el ámbito, ¿Por qué será útil esta herramienta y cómo ayudará a mejorar el negocio? esta será entregada en una celda de texto. **10 pts**.\n",
    "4. ¿Cree que se pueda construir una clase hija que ayude al proceso? Si sí constrúyala, sino, argumente por qué en una célda de código. **5 pts**."
   ]
  },
  {
   "cell_type": "code",
   "execution_count": 107,
   "metadata": {},
   "outputs": [
    {
     "name": "stdout",
     "output_type": "stream",
     "text": [
      "Producto 'Tarta' agregado al pedido.\n",
      "Producto 'esencia de vainilla' agregado al pedido.\n",
      "Pedido completado con exito.\n",
      "Producto adicional 'Café' recibido del cliente para el pedido con ID 1035.\n",
      "Pedido modificado con nuevo producto gestionado con exito.\n"
     ]
    }
   ],
   "source": [
    "class Pedido:\n",
    "    def __init__(self, order_id, customer_name, products, payment_method, order_date):\n",
    "        \"\"\"\n",
    "        Initializes an object of the Order class.\n",
    "        Parameters:\n",
    "        - order_id (int): Unique order number.\n",
    "        - customer_name (str): Name of the customer who places the order.\n",
    "        - products (list): List of products included in the order.\n",
    "        - payment_method (str): Payment method used for the order.\n",
    "        - order_date (str): Date on which the order is placed.\n",
    "        \"\"\"\n",
    "        self.order_id = order_id\n",
    "        self.customer_name = customer_name\n",
    "        self.products = products\n",
    "        self.payment_method = payment_method\n",
    "        self.order_date = order_date\n",
    "        self.status = \"En proceso\"\n",
    "\n",
    "    def add_product(self, new_product):\n",
    "        \"\"\"\n",
    "        Add a new product to the order.\n",
    "\n",
    "        Parameters:\n",
    "        - new_product (str): Name of the product you want to add.\n",
    "        \"\"\"\n",
    "        self.products.append(new_product)\n",
    "        print(f\"Producto '{new_product}' agregado al pedido.\")\n",
    "\n",
    "    def complete_order(self):\n",
    "        \"\"\"Set the order as complete.\"\"\"\n",
    "        self.status = \"Completado\"\n",
    "        print(\"Pedido completado con exito.\")\n",
    "\n",
    "class CustomerBilling(Pedido):\n",
    "    def __init__(self, order_id, products, customer, payment_method, order_date):\n",
    "        super().__init__(order_id, customer_name=customer, products=products, payment_method=payment_method, order_date=order_date)\n",
    "        self.status = \"Modified for the customer\"\n",
    "\n",
    "    def modify(self, new_product, order_id):\n",
    "        \"\"\"\n",
    "        Receive a new product from the customer and update the product list.\n",
    "\n",
    "        Parameters:\n",
    "        - new_product (str): Name of the new product received.\n",
    "        - order_id (int): ID of the order to which the product is added.\n",
    "        \"\"\"\n",
    "        self.products.append(new_product)\n",
    "        print(f\"Producto adicional '{new_product}' recibido del cliente para el pedido con ID {order_id}.\")\n",
    "\n",
    "    def complete_order(self):\n",
    "        \"\"\"Set the order modification as complete.\"\"\"\n",
    "        self.status = \"Completado\"\n",
    "        print(\"Pedido modificado con nuevo producto gestionado con exito.\")\n",
    "# Example:\n",
    "pedido_cliente = Pedido(order_id=1035, customer_name=\"Juana Pérez\", products=[\"harina\", \"pan\"], payment_method=\"Tarjeta\", order_date=\"2024-02-10\")\n",
    "pedido_cliente.add_product(\"Tarta\")\n",
    "pedido_cliente.add_product(\"esencia de vainilla\")\n",
    "pedido_cliente.complete_order()\n",
    "# Uso del método modify con el ID del pedido heredado\n",
    "facturacion_cliente = CustomerBilling(order_id=1035, products=[\"harina\", \"pan\"], customer=\"Juan Pérez\", payment_method=\"Tarjeta\", order_date=\"2024-02-11\")\n",
    "facturacion_cliente.modify(new_product=\"Café\", order_id=facturacion_cliente.order_id)\n",
    "facturacion_cliente.complete_order()\n"
   ]
  },
  {
   "attachments": {},
   "cell_type": "markdown",
   "metadata": {},
   "source": [
    "3. Pertinencia de la clase en el ámbito, ¿Por qué será útil esta herramienta y cómo ayudará a mejorar el negocio? esta será entregada en una celda de texto. **10 pts**.\n",
    "* El aspecto de mejora radica en el orden del proceso contable y retoma variables de productos anteriores ordenados para que permita que se realice la adición de un producto a un pedido anterior."
   ]
  },
  {
   "attachments": {},
   "cell_type": "markdown",
   "metadata": {},
   "source": [
    "4. ¿Cree que se pueda construir una clase hija que ayude al proceso? Si sí constrúyala, sino, argumente por qué en una célda de código. **5 pts**.\n",
    "\n",
    "* Se requiere la clase en el proceso contable, inventarios y operaciones para adicionar un producto al pedido anterior y no incurrir en costos de envio adicionales a productos dirigidos a un mismo consumidor y de este modo se mejora la experiencia del cliente. Adicionalmente se relaciona el ID de pedido anterior modificando el pedido bajo la misma factura para mejorar la trazabilidad."
   ]
  },
  {
   "cell_type": "markdown",
   "metadata": {},
   "source": [
    "## **Ejercicio 2** (50 pts)\n",
    "\n",
    "Realice los siguientes ejercicios con numpy\n",
    "\n",
    "1. Resolver el siguiente sistema de ecuaciones. **16 pts**\n",
    "\n",
    "$$\n",
    "2x + 3y - z + 4w + 5v = 15\n",
    "$$\n",
    "\n",
    "$$\n",
    "x - 2y + 4z - 3w + v = 6\n",
    "$$\n",
    "\n",
    "$$\n",
    "3x + 2y - 3z + 5w - 2v = 11\n",
    "$$\n",
    "\n",
    "$$\n",
    "4x + y - 2z + 3w + 2v = 8\n",
    "$$\n",
    "\n",
    "$$\n",
    "x + y + z + w + v = 7\n",
    "$$"
   ]
  },
  {
   "attachments": {},
   "cell_type": "markdown",
   "metadata": {},
   "source": [
    "#### Sistema de ecuaciones"
   ]
  },
  {
   "cell_type": "code",
   "execution_count": 91,
   "metadata": {},
   "outputs": [],
   "source": [
    "## Load libraries \n",
    "import numpy as np"
   ]
  },
  {
   "cell_type": "code",
   "execution_count": 109,
   "metadata": {},
   "outputs": [],
   "source": [
    "## Creo la matriz útil para representar la matriz A del sistema de ecuaciones\n",
    "a=np.array([[2,3,-1,4,5],\n",
    "               [1,-2,4,-3,1],\n",
    "               [3,2,-3,5,-2],\n",
    "              [4,1,2,3,2],\n",
    "               [1,1,1,1,1]\n",
    "               ])\n",
    "## Creo la matrix B para crear el vector *b* del sistema de ecuaciones\n",
    "b=np.array([15,6,11,8,7])"
   ]
  },
  {
   "attachments": {},
   "cell_type": "markdown",
   "metadata": {},
   "source": [
    "* Esta función internamente verifica si la matriz a es sigular,\n",
    " lo cual indicaria que el sistema de ecuaciones no tendria solución.\n",
    "* Valida si es una matriz cuadrada.\n",
    "* Para resolver dicha matriz se se establece un sistema de ecuaciones de $A*x=B\n",
    "x=inv(A)*B$.\n",
    "* Esta función internamente verifica si la matriz `A` es singular, lo cual indicaría que el sistema de ecuaciones no tendría solución.\n",
    "* Valida si `A` es una matriz cuadrada.\n",
    "* Para resolver la matriz, se establece un sistema de ecuaciones $ A * x = B$, y la solución se obtiene como $$x = inv(A) * B$$"
   ]
  },
  {
   "attachments": {},
   "cell_type": "markdown",
   "metadata": {},
   "source": [
    "* Dicho ejercicio se va a realizar por dos métodos y se va a llegar al mismo resultado"
   ]
  },
  {
   "cell_type": "code",
   "execution_count": 110,
   "metadata": {},
   "outputs": [
    {
     "name": "stdout",
     "output_type": "stream",
     "text": [
      "Resultado para x: 15.164179104477608\n",
      "Resultado para y: 17.85074626865671\n",
      "Resultado para z: -7.119402985074626\n",
      "Resultado para w: -18.4776119402985\n",
      "Resultado para v: -0.4179104477611929\n"
     ]
    }
   ],
   "source": [
    "for i, j in zip(range(5), ['x', 'y', 'z', 'w','v']):\n",
    "    print(f\"Resultado para {j}: {np.linalg.inv(a).dot(b)[i]}\")"
   ]
  },
  {
   "cell_type": "code",
   "execution_count": 112,
   "metadata": {},
   "outputs": [
    {
     "name": "stdout",
     "output_type": "stream",
     "text": [
      "Solución del sistema de ecuaciones:\n",
      "x = 15.164\n",
      "y = 17.851\n",
      "z = -7.119\n",
      "w = -18.478\n",
      "v = -0.418\n"
     ]
    }
   ],
   "source": [
    "# Resolver el sistema de ecuaciones\n",
    "## Solución alternativa usando otro modulo de Numpy que usa otro metodo de descomposición A para simplificar el problema. Por ejemplo la descomposición L(Triangular inferior) y U (Triangular superior)\n",
    "solucion = np.linalg.solve(a, b)\n",
    "# Imprimir la solución\n",
    "print(\"Solución del sistema de ecuaciones:\")\n",
    "print(\"x =\", \"{:.3f}\".format(solucion[0]))\n",
    "print(\"y =\", \"{:.3f}\".format(solucion[1]))\n",
    "print(\"z =\", \"{:.3f}\".format(solucion[2]))\n",
    "print(\"w =\", \"{:.3f}\".format(solucion[3]))\n",
    "print(\"v =\", \"{:.3f}\".format(solucion[4]))"
   ]
  },
  {
   "attachments": {},
   "cell_type": "markdown",
   "metadata": {},
   "source": [
    "2. Calcule el valor del número de Euler o constante de Napier $e = 2,71828$ como:\n",
    "\n",
    "$$e = \\sum_i ^{\\infty} \\frac{1}{n!}$$\n",
    "\n",
    "  ¿Qué precisión en términos de el número de términos necesita para dar cuenta de los primeros 5 números de la coma decimal? **18 pts**"
   ]
  },
  {
   "cell_type": "code",
   "execution_count": 95,
   "metadata": {},
   "outputs": [
    {
     "name": "stdout",
     "output_type": "stream",
     "text": [
      "El resultado dada la simulacion con 10 es:  2.7182818011463845\n"
     ]
    }
   ],
   "source": [
    "n=10\n",
    "terminos=np.arange(0,n+1).astype(float) ## Creamos un arreglo que va de 0 hasta n+1\n",
    "terminos[0]=1 ## Evitamos la división por cero asumiendo que 1/0!= 1\n",
    "terminos=sum(1/terminos.cumprod()) ## Es el producto por cada uno de los elementos del array \n",
    "print(f\"El resultado dada la simulacion con {n} es: \",terminos)\n",
    "## Necesita 10 terminos para llegar al coincidir con los 5 primeros decimales"
   ]
  },
  {
   "cell_type": "markdown",
   "metadata": {},
   "source": [
    "3. Ecuentre los auto valores de la matriz.  **16 pts**\n",
    "\n",
    "$$\n",
    "\\begin{pmatrix}\n",
    "2 & 1 & 1 \\\\\n",
    "4 & 3 & 2 \\\\\n",
    "1 & 1 & 2 \\\\\n",
    "\\end{pmatrix}\n",
    "$$"
   ]
  },
  {
   "cell_type": "code",
   "execution_count": 96,
   "metadata": {},
   "outputs": [],
   "source": [
    "a=np.array([2,1,1,4,3,2,1,1,2]).reshape(3,3) ## definicion del escalar y luego se aplica un reshape para llegar al punto de partidad del ejercicio\n",
    "b=np.array(['x','y','z'])"
   ]
  },
  {
   "cell_type": "code",
   "execution_count": 97,
   "metadata": {},
   "outputs": [
    {
     "data": {
      "text/plain": [
       "array([[2, 1, 1],\n",
       "       [4, 3, 2],\n",
       "       [1, 1, 2]])"
      ]
     },
     "execution_count": 97,
     "metadata": {},
     "output_type": "execute_result"
    }
   ],
   "source": [
    "a"
   ]
  },
  {
   "attachments": {},
   "cell_type": "markdown",
   "metadata": {},
   "source": [
    "* Los autovalores de una matriz cuadrada son los valores $\\lambda $ que satisfacen la siguiente característica:\n",
    "\n",
    "$$ \n",
    "\\\\{det}(A - \\lambda I) = 0\n",
    "$$\n",
    "\n",
    "- $\\\\{det}$ Denota el determinante de la matriz\n",
    "- A Es la matriz desde la cual estamos calculando los autovalores\n",
    "- $\\lambda$ es un escalar que representa el vector propio o autovalor\n",
    "- \\(I\\) Es la matriz identidad del mismo tamaño que \\(A\\)"
   ]
  },
  {
   "attachments": {},
   "cell_type": "markdown",
   "metadata": {},
   "source": [
    "- Método que encuentra los valores óptimos $\\lambda $"
   ]
  },
  {
   "cell_type": "code",
   "execution_count": 99,
   "metadata": {},
   "outputs": [
    {
     "name": "stdout",
     "output_type": "stream",
     "text": [
      "los autovectores o valores propios estan dados por:  [5.44948974 0.55051026 1.        ]\n"
     ]
    }
   ],
   "source": [
    "print(\"los autovectores o valores propios estan dados por: \",np.linalg.eigvals(a))"
   ]
  }
 ],
 "metadata": {
  "kernelspec": {
   "display_name": "myenv",
   "language": "python",
   "name": "python3"
  },
  "language_info": {
   "codemirror_mode": {
    "name": "ipython",
    "version": 3
   },
   "file_extension": ".py",
   "mimetype": "text/x-python",
   "name": "python",
   "nbconvert_exporter": "python",
   "pygments_lexer": "ipython3",
   "version": "3.7.9"
  },
  "orig_nbformat": 4
 },
 "nbformat": 4,
 "nbformat_minor": 2
}

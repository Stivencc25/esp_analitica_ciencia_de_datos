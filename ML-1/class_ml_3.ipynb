{
 "cells": [
  {
   "attachments": {},
   "cell_type": "markdown",
   "metadata": {},
   "source": [
    "## Trabajo aprendizaje supervisado:\n",
    "* Se retoma el modelo lgb anterior y se realiza smote oversampling sobre la variable de salida y se analizan los resultados sin la data afectada en entrenamiento. \n",
    "* Stiven Cadavid Cataño"
   ]
  },
  {
   "attachments": {},
   "cell_type": "markdown",
   "metadata": {},
   "source": [
    "* Objetivo: Se requiere un modelo que ayude a identificar la posible fuga de clientes en una empresas de telecomunicaciones donde se espera identificarlos para ajustarles una oferta que se ajsute a sus necesidades y permanezca en la compañia dado que el eslogan de la compañia es que cuesta 7 veces más adquirir un cliente nuevo que reter a uno.\n",
    "\n",
    "Se espera encotrar un modelo supervisado que logre identificar en su mayoria los clientes que se van dejar la compañia dado que el costo de adquisición es más alto, por tanto, el negocio prefiere brindarle una oferta de retención así no tenga incentivos a retirarse es decir acpeta o tiene cierta tolerancia con aquellos que el modelo predice como churn y en realidad no lo son y si exige mayor cautela con aquellos que no son clasificadods como churn y si se van."
   ]
  },
  {
   "cell_type": "code",
   "execution_count": 24,
   "metadata": {},
   "outputs": [],
   "source": [
    "import numpy as np\n",
    "import pandas as pd\n",
    "import seaborn as sns\n",
    "import matplotlib.pyplot as plt\n",
    "from sklearn.linear_model import LogisticRegression\n",
    "from sklearn.neighbors import KNeighborsClassifier\n",
    "from sklearn.ensemble import GradientBoostingClassifier\n",
    "from sklearn.ensemble import RandomForestClassifier, GradientBoostingClassifier\n",
    "from sklearn.tree import DecisionTreeClassifier\n",
    "from sklearn.metrics import accuracy_score, f1_score, roc_auc_score, confusion_matrix, classification_report\n",
    "from sklearn.model_selection import train_test_split, GridSearchCV, cross_validate, RandomizedSearchCV, validation_curve\n",
    "from sklearn.preprocessing import MinMaxScaler, LabelEncoder, StandardScaler, RobustScaler\n",
    "from scipy.stats import norm, skew\n",
    "from scipy import stats\n",
    "from xgboost import XGBClassifier\n",
    "from lightgbm import LGBMClassifier\n",
    "from catboost import CatBoostClassifier\n",
    "from sklearn.impute import KNNImputer\n",
    "import optuna\n",
    "from sklearn.preprocessing import MinMaxScaler\n",
    "from sklearn.model_selection import cross_val_score\n",
    "from sklearn.metrics import roc_auc_score, confusion_matrix\n",
    "from sklearn.model_selection import train_test_split\n",
    "import os\n",
    "import warnings\n",
    "import pingouin as pg\n",
    "from utils.funciones import multiple_plot\n",
    "warnings.filterwarnings('ignore')\n",
    "from sklearn.svm import SVC\n",
    "import joblib\n",
    "from sklearn.metrics import f1_score, precision_recall_curve\n",
    "from imblearn.over_sampling import SMOTE\n"
   ]
  },
  {
   "attachments": {},
   "cell_type": "markdown",
   "metadata": {},
   "source": [
    "Descripciones de las Variables:\n",
    "* customerID: ID del cliente.\n",
    "* gender: género del cliente (Masculino/Femenino).\n",
    "* seniorCitizen: indica si el cliente es un ciudadano senior (1/0).\n",
    "* partner: indica si el cliente tiene pareja (Sí/No).\n",
    "* dependents: indica si el cliente tiene dependientes (Sí/No).\n",
    "* tenure: número de meses que el cliente ha estado con la compañía.\n",
    "* phoneService: indica si el cliente tiene servicio telefónico (Sí/No).\n",
    "* multipleLines: indica si el cliente tiene múltiples líneas (Sí/No/Sin servicio telefónico).\n",
    "* internetService: proveedor de servicio de internet del cliente (DSL/Fibra óptica/No).\n",
    "* onlineSecurity: indica si el cliente tiene seguridad en línea (Sí/No/Sin servicio de internet).\n",
    "* onlineBackup: indica si el cliente tiene respaldo en línea (Sí/No/Sin servicio de internet).\n",
    "* deviceProtection: indica si el cliente tiene protección de dispositivos (Sí/No/Sin servicio de internet).\n",
    "* techSupport: indica si el cliente tiene soporte técnico (Sí/No/Sin servicio de internet).\n",
    "* streamingTV: indica si el cliente tiene servicio de TV por streaming (Sí/No/Sin servicio de internet).\n",
    "* streamingMovies: indica si el cliente tiene servicio de películas por streaming (Sí/No/Sin servicio de internet).\n",
    "* contract: término del contrato del cliente (Mes a mes/Un año/Dos años).\n",
    "* paperlessBilling: indica si el cliente tiene facturación sin papeles (Sí/No).\n",
    "* paymentMethod: método de pago del cliente (Cheque electrónico/Cheque enviado/Transferencia bancaria automática/Tarjeta de crédito automática).\n",
    "* monthlyCharges: cantidad cobrada al cliente mensualmente.\n",
    "* totalCharges: cantidad total cobrada al cliente.\n",
    "* churn: indica si el cliente se dio de baja de la compañia (Sí/No)."
   ]
  },
  {
   "cell_type": "code",
   "execution_count": 25,
   "metadata": {},
   "outputs": [
    {
     "data": {
      "text/plain": [
       "'d:\\\\Desktop\\\\Camino a la U Again\\\\clase_ml\\\\classification'"
      ]
     },
     "execution_count": 25,
     "metadata": {},
     "output_type": "execute_result"
    }
   ],
   "source": [
    "os.getcwd()"
   ]
  },
  {
   "attachments": {},
   "cell_type": "markdown",
   "metadata": {},
   "source": [
    "## Lectura"
   ]
  },
  {
   "cell_type": "code",
   "execution_count": 33,
   "metadata": {},
   "outputs": [],
   "source": [
    "# Reading the datasets from CSV files\n",
    "X_train = pd.read_csv('objetos/datasets/X_train.csv')\n",
    "X_test = pd.read_csv('objetos/datasets/X_test.csv')\n",
    "X_val = pd.read_csv('objetos/datasets/X_val.csv')\n",
    "y_train = pd.read_csv('objetos/datasets/y_train.csv')['Churn']\n",
    "y_test = pd.read_csv('objetos/datasets/y_test.csv')['Churn']\n",
    "y_val = pd.read_csv('objetos/datasets/y_val.csv')['Churn']"
   ]
  },
  {
   "attachments": {},
   "cell_type": "markdown",
   "metadata": {},
   "source": [
    "## Funciones"
   ]
  },
  {
   "cell_type": "code",
   "execution_count": 50,
   "metadata": {},
   "outputs": [],
   "source": [
    "def apply_threshold(probas, threshold):\n",
    "    return (probas >= threshold).astype(int)\n",
    "\n",
    "def find_best_threshold(model, X, y):\n",
    "    # Predict probabilities\n",
    "    probas = model.predict_proba(X)[:, 1]\n",
    "    precision, recall, thresholds = precision_recall_curve(y, probas)\n",
    "    f1_scores = 2 * (precision * recall) / (precision + recall)\n",
    "    max_index = np.argmax(f1_scores)\n",
    "    # Esto me va a devolver el máximo f1\n",
    "    return thresholds[max_index], f1_scores[max_index]"
   ]
  },
  {
   "attachments": {},
   "cell_type": "markdown",
   "metadata": {},
   "source": [
    "### Se van a realizar busqueda de hiperparametros tratando de maximizar el AUC.\n",
    "para el mejor modelo anterior, buscando mejorar su perfomance, el cual vamos a importar:"
   ]
  },
  {
   "cell_type": "code",
   "execution_count": 35,
   "metadata": {},
   "outputs": [],
   "source": [
    "lgb_model = joblib.load('objetos/LightGBM_model.joblib')"
   ]
  },
  {
   "cell_type": "code",
   "execution_count": 36,
   "metadata": {},
   "outputs": [
    {
     "data": {
      "text/plain": [
       "LGBMClassifier(learning_rate=0.010799121952637642, max_depth=13,\n",
       "               n_estimators=198, num_leaves=21)"
      ]
     },
     "execution_count": 36,
     "metadata": {},
     "output_type": "execute_result"
    }
   ],
   "source": [
    "lgb_model"
   ]
  },
  {
   "attachments": {},
   "cell_type": "markdown",
   "metadata": {},
   "source": [
    "### Esto nos permite identificar la capacidad de generalziación del modelo y evitar el sobre ajuste."
   ]
  },
  {
   "cell_type": "code",
   "execution_count": 84,
   "metadata": {},
   "outputs": [
    {
     "name": "stdout",
     "output_type": "stream",
     "text": [
      "ROC AUC Score for LightGBM: 0.8795491080420579\n"
     ]
    }
   ],
   "source": [
    "## Evaluación del modelo en x_test\n",
    "y_pred_proba_lgb = lgb_model.predict_proba(X_train)[:, 1]\n",
    "best_threshold = 0.38520930434560685  # As noted from your previous analysis\n",
    "y_pred_lgb = (y_pred_proba_lgb > best_threshold).astype(int)\n",
    "auc_lgb = roc_auc_score(y_train, y_pred_proba_lgb)\n",
    "print(f\"ROC AUC Score for LightGBM: {auc_lgb}\")\n",
    "tn_lgb, fp_lgb, fn_lgb, tp_lgb = confusion_matrix(y_train, y_pred_lgb).ravel()"
   ]
  },
  {
   "cell_type": "code",
   "execution_count": 85,
   "metadata": {},
   "outputs": [
    {
     "name": "stdout",
     "output_type": "stream",
     "text": [
      "ROC AUC Score for LightGBM: 0.8546965879015516\n"
     ]
    }
   ],
   "source": [
    "## Evaluación del modelo en x_test\n",
    "y_pred_proba_lgb = lgb_model.predict_proba(X_test)[:, 1]\n",
    "best_threshold = 0.38520930434560685  # As noted from your previous analysis\n",
    "y_pred_lgb = (y_pred_proba_lgb > best_threshold).astype(int)\n",
    "auc_lgb = roc_auc_score(y_test, y_pred_proba_lgb)\n",
    "print(f\"ROC AUC Score for LightGBM: {auc_lgb}\")\n",
    "tn_lgb, fp_lgb, fn_lgb, tp_lgb = confusion_matrix(y_test, y_pred_lgb).ravel()\n"
   ]
  },
  {
   "cell_type": "code",
   "execution_count": 86,
   "metadata": {},
   "outputs": [
    {
     "name": "stdout",
     "output_type": "stream",
     "text": [
      "ROC AUC Score for LightGBM: 0.8484660711015773\n"
     ]
    }
   ],
   "source": [
    "## Evaluación del modelo en x_val\n",
    "y_pred_proba_lgb_val = lgb_model.predict_proba(X_val)[:, 1]\n",
    "best_threshold = 0.38520930434560685  # As noted from your previous analysis\n",
    "y_pred_lgb_val = (y_pred_proba_lgb_val > best_threshold).astype(int)\n",
    "auc_lgb = roc_auc_score(y_val, y_pred_proba_lgb_val)\n",
    "print(f\"ROC AUC Score for LightGBM: {auc_lgb}\")\n",
    "tn_lgb, fp_lgb, fn_lgb, tp_lgb = confusion_matrix(y_val, y_pred_lgb_val).ravel()"
   ]
  },
  {
   "attachments": {},
   "cell_type": "markdown",
   "metadata": {},
   "source": [
    "## Con ayuda de optuna buscaremos realizar una validación cruzada para lograr mejorar los resultados del modelo anterior y mejorar la gwneralización."
   ]
  },
  {
   "cell_type": "code",
   "execution_count": 94,
   "metadata": {},
   "outputs": [
    {
     "name": "stderr",
     "output_type": "stream",
     "text": [
      "[I 2024-05-03 20:36:45,707] A new study created in memory with name: LiGHT\n",
      "[I 2024-05-03 20:36:46,087] Trial 0 finished with value: 0.836768626632866 and parameters: {'n_estimators': 132, 'max_depth': 15, 'learning_rate': 0.0453545633143206, 'num_leaves': 16, 'min_child_samples': 6, 'min_child_weight': 0.06833328483943678, 'reg_alpha': 12.71412923139312, 'reg_lambda': 0.4525312121411399}. Best is trial 0 with value: 0.836768626632866.\n",
      "[I 2024-05-03 20:36:46,242] Trial 1 finished with value: 0.8353912072675765 and parameters: {'n_estimators': 106, 'max_depth': 10, 'learning_rate': 0.17549449758636176, 'num_leaves': 20, 'min_child_samples': 10, 'min_child_weight': 3.0931724855771088, 'reg_alpha': 19.937014726298056, 'reg_lambda': 0.23182195119833315}. Best is trial 0 with value: 0.836768626632866.\n",
      "[I 2024-05-03 20:36:46,427] Trial 2 finished with value: 0.8376686701499498 and parameters: {'n_estimators': 138, 'max_depth': 14, 'learning_rate': 0.13555809576148042, 'num_leaves': 8, 'min_child_samples': 77, 'min_child_weight': 4.1915243287946105, 'reg_alpha': 11.85493329355974, 'reg_lambda': 0.7148892398710294}. Best is trial 2 with value: 0.8376686701499498.\n",
      "[I 2024-05-03 20:36:46,599] Trial 3 finished with value: 0.8350389446461506 and parameters: {'n_estimators': 166, 'max_depth': 7, 'learning_rate': 0.27111587252192665, 'num_leaves': 11, 'min_child_samples': 81, 'min_child_weight': 3.789421928506795, 'reg_alpha': 10.581413953319636, 'reg_lambda': 0.801970536033465}. Best is trial 2 with value: 0.8376686701499498.\n",
      "[I 2024-05-03 20:36:46,805] Trial 4 finished with value: 0.837329932758645 and parameters: {'n_estimators': 138, 'max_depth': 8, 'learning_rate': 0.16715752095887465, 'num_leaves': 18, 'min_child_samples': 32, 'min_child_weight': 1.0448404164575555, 'reg_alpha': 12.064069019038103, 'reg_lambda': 0.6007197825337758}. Best is trial 2 with value: 0.8376686701499498.\n",
      "[I 2024-05-03 20:36:47,017] Trial 5 finished with value: 0.8355938805589516 and parameters: {'n_estimators': 187, 'max_depth': 2, 'learning_rate': 0.04102188684163042, 'num_leaves': 18, 'min_child_samples': 48, 'min_child_weight': 1.6724647790521774, 'reg_alpha': 19.95587841066766, 'reg_lambda': 0.33058228638773957}. Best is trial 2 with value: 0.8376686701499498.\n",
      "[I 2024-05-03 20:36:47,238] Trial 6 finished with value: 0.8367770211910448 and parameters: {'n_estimators': 200, 'max_depth': 12, 'learning_rate': 0.10189830245642698, 'num_leaves': 17, 'min_child_samples': 55, 'min_child_weight': 6.632126923362738, 'reg_alpha': 14.557439297522528, 'reg_lambda': 0.7859429537983784}. Best is trial 2 with value: 0.8376686701499498.\n",
      "[W 2024-05-03 20:36:47,273] Trial 7 failed with parameters: {'n_estimators': 102, 'max_depth': 10, 'learning_rate': 0.15710676811586333, 'num_leaves': 1, 'min_child_samples': 32, 'min_child_weight': 5.714064586087351, 'reg_alpha': 15.341093737582524, 'reg_lambda': 0.5975617357975154} because of the following error: The value nan is not acceptable.\n",
      "[W 2024-05-03 20:36:47,274] Trial 7 failed with value nan.\n",
      "[I 2024-05-03 20:36:47,460] Trial 8 finished with value: 0.8361780745901161 and parameters: {'n_estimators': 130, 'max_depth': 5, 'learning_rate': 0.06613586763688403, 'num_leaves': 4, 'min_child_samples': 41, 'min_child_weight': 3.383304289727647, 'reg_alpha': 18.57996985871705, 'reg_lambda': 0.8251150865096406}. Best is trial 2 with value: 0.8376686701499498.\n",
      "[I 2024-05-03 20:36:47,642] Trial 9 finished with value: 0.8312634750944433 and parameters: {'n_estimators': 103, 'max_depth': 4, 'learning_rate': 0.015932969940575126, 'num_leaves': 5, 'min_child_samples': 68, 'min_child_weight': 8.932867064344125, 'reg_alpha': 16.782654840115242, 'reg_lambda': 0.20421179788535515}. Best is trial 2 with value: 0.8376686701499498.\n",
      "[I 2024-05-03 20:36:47,767] Trial 10 finished with value: 0.8253699376392021 and parameters: {'n_estimators': 118, 'max_depth': 2, 'learning_rate': 0.03190063017553914, 'num_leaves': 2, 'min_child_samples': 12, 'min_child_weight': 2.5535587356821305, 'reg_alpha': 18.61903809585842, 'reg_lambda': 0.36375548947190284}. Best is trial 2 with value: 0.8376686701499498.\n",
      "[I 2024-05-03 20:36:48,184] Trial 11 finished with value: 0.8352868541036035 and parameters: {'n_estimators': 160, 'max_depth': 15, 'learning_rate': 0.012320951399169135, 'num_leaves': 9, 'min_child_samples': 94, 'min_child_weight': 5.937256541308976, 'reg_alpha': 14.529612431012556, 'reg_lambda': 0.602669755977256}. Best is trial 2 with value: 0.8376686701499498.\n",
      "[I 2024-05-03 20:36:48,599] Trial 12 finished with value: 0.8356821141591322 and parameters: {'n_estimators': 143, 'max_depth': 10, 'learning_rate': 0.12924467570721124, 'num_leaves': 12, 'min_child_samples': 31, 'min_child_weight': 0.005088196069266582, 'reg_alpha': 10.238489914069895, 'reg_lambda': 0.606526005256128}. Best is trial 2 with value: 0.8376686701499498.\n",
      "[I 2024-05-03 20:36:48,879] Trial 13 finished with value: 0.8372712864589046 and parameters: {'n_estimators': 148, 'max_depth': -1, 'learning_rate': 0.25768671600057536, 'num_leaves': 8, 'min_child_samples': 66, 'min_child_weight': 5.078534663370226, 'reg_alpha': 12.081403250990363, 'reg_lambda': 0.6398035385265758}. Best is trial 2 with value: 0.8376686701499498.\n",
      "[I 2024-05-03 20:36:49,214] Trial 14 finished with value: 0.8371682924680218 and parameters: {'n_estimators': 132, 'max_depth': 12, 'learning_rate': 0.09520264657074562, 'num_leaves': 14, 'min_child_samples': 28, 'min_child_weight': 7.76804106714253, 'reg_alpha': 12.689593601009603, 'reg_lambda': 0.01951565296206048}. Best is trial 2 with value: 0.8376686701499498.\n",
      "[I 2024-05-03 20:36:49,498] Trial 15 finished with value: 0.8381150964218023 and parameters: {'n_estimators': 161, 'max_depth': 8, 'learning_rate': 0.14941561106809112, 'num_leaves': 7, 'min_child_samples': 97, 'min_child_weight': 1.8541648148116736, 'reg_alpha': 11.442618196653498, 'reg_lambda': 0.9606116393841756}. Best is trial 15 with value: 0.8381150964218023.\n",
      "[I 2024-05-03 20:36:49,917] Trial 16 finished with value: 0.8381353438070928 and parameters: {'n_estimators': 170, 'max_depth': 13, 'learning_rate': 0.07388971759712734, 'num_leaves': 7, 'min_child_samples': 99, 'min_child_weight': 4.44063818637426, 'reg_alpha': 13.830564001085941, 'reg_lambda': 0.9890399424261587}. Best is trial 16 with value: 0.8381353438070928.\n",
      "[I 2024-05-03 20:36:50,282] Trial 17 finished with value: 0.8380212076358085 and parameters: {'n_estimators': 170, 'max_depth': 9, 'learning_rate': 0.07077445962358643, 'num_leaves': 6, 'min_child_samples': 100, 'min_child_weight': 1.9409773542393607, 'reg_alpha': 15.346496077813015, 'reg_lambda': 0.9827672955169335}. Best is trial 16 with value: 0.8381353438070928.\n",
      "[W 2024-05-03 20:36:50,376] Trial 18 failed with parameters: {'n_estimators': 175, 'max_depth': 12, 'learning_rate': 0.02840361388926248, 'num_leaves': 1, 'min_child_samples': 88, 'min_child_weight': 5.300692582936992, 'reg_alpha': 13.659086331047655, 'reg_lambda': 0.9825901266310397} because of the following error: The value nan is not acceptable.\n",
      "[W 2024-05-03 20:36:50,378] Trial 18 failed with value nan.\n",
      "[W 2024-05-03 20:36:50,434] Trial 19 failed with parameters: {'n_estimators': 181, 'max_depth': 12, 'learning_rate': 0.02275320222774246, 'num_leaves': 1, 'min_child_samples': 88, 'min_child_weight': 5.525127938792234, 'reg_alpha': 13.27813602938787, 'reg_lambda': 0.9707567457055529} because of the following error: The value nan is not acceptable.\n",
      "[W 2024-05-03 20:36:50,435] Trial 19 failed with value nan.\n",
      "[I 2024-05-03 20:36:50,667] Trial 20 finished with value: 0.8340424134920573 and parameters: {'n_estimators': 178, 'max_depth': 6, 'learning_rate': 0.0249838225002781, 'num_leaves': 3, 'min_child_samples': 89, 'min_child_weight': 4.874635755347104, 'reg_alpha': 13.615466051880842, 'reg_lambda': 0.9277629100893547}. Best is trial 16 with value: 0.8381353438070928.\n",
      "[I 2024-05-03 20:36:50,920] Trial 21 finished with value: 0.8377491877974576 and parameters: {'n_estimators': 156, 'max_depth': 12, 'learning_rate': 0.08690946129781484, 'num_leaves': 6, 'min_child_samples': 83, 'min_child_weight': 6.437035334069166, 'reg_alpha': 15.964372371276822, 'reg_lambda': 0.9077973719045598}. Best is trial 16 with value: 0.8381353438070928.\n",
      "[W 2024-05-03 20:36:50,993] Trial 22 failed with parameters: {'n_estimators': 182, 'max_depth': 13, 'learning_rate': 0.055353180973044654, 'num_leaves': 1, 'min_child_samples': 100, 'min_child_weight': 1.3206382922225606, 'reg_alpha': 10.866916725956667, 'reg_lambda': 0.9847047353630487} because of the following error: The value nan is not acceptable.\n",
      "[W 2024-05-03 20:36:50,994] Trial 22 failed with value nan.\n",
      "[W 2024-05-03 20:36:51,054] Trial 23 failed with parameters: {'n_estimators': 184, 'max_depth': 13, 'learning_rate': 0.058518138312255066, 'num_leaves': 1, 'min_child_samples': 100, 'min_child_weight': 4.9535466910995485, 'reg_alpha': 10.956962458809187, 'reg_lambda': 0.9991357302536561} because of the following error: The value nan is not acceptable.\n",
      "[W 2024-05-03 20:36:51,054] Trial 23 failed with value nan.\n",
      "[W 2024-05-03 20:36:51,105] Trial 24 failed with parameters: {'n_estimators': 182, 'max_depth': 13, 'learning_rate': 0.05669769837855724, 'num_leaves': 1, 'min_child_samples': 99, 'min_child_weight': 9.819044240900269, 'reg_alpha': 13.600017423981072, 'reg_lambda': 0.9724260038978408} because of the following error: The value nan is not acceptable.\n",
      "[W 2024-05-03 20:36:51,105] Trial 24 failed with value nan.\n",
      "[I 2024-05-03 20:36:51,319] Trial 25 finished with value: 0.8370736899507477 and parameters: {'n_estimators': 182, 'max_depth': 13, 'learning_rate': 0.20344227991214756, 'num_leaves': 13, 'min_child_samples': 98, 'min_child_weight': 5.019015091941502, 'reg_alpha': 11.063110226378534, 'reg_lambda': 0.9938025207310697}. Best is trial 16 with value: 0.8381353438070928.\n",
      "[W 2024-05-03 20:36:51,407] Trial 26 failed with parameters: {'n_estimators': 197, 'max_depth': 10, 'learning_rate': 0.056837455220328965, 'num_leaves': 1, 'min_child_samples': 67, 'min_child_weight': 1.2864709145379227, 'reg_alpha': 13.107987434316048, 'reg_lambda': 0.8708716136715383} because of the following error: The value nan is not acceptable.\n",
      "[W 2024-05-03 20:36:51,408] Trial 26 failed with value nan.\n",
      "[W 2024-05-03 20:36:51,476] Trial 27 failed with parameters: {'n_estimators': 191, 'max_depth': 10, 'learning_rate': 0.056144260965864175, 'num_leaves': 1, 'min_child_samples': 68, 'min_child_weight': 9.255257817531707, 'reg_alpha': 13.827478524081972, 'reg_lambda': 0.724202511073907} because of the following error: The value nan is not acceptable.\n",
      "[W 2024-05-03 20:36:51,477] Trial 27 failed with value nan.\n",
      "[W 2024-05-03 20:36:51,532] Trial 28 failed with parameters: {'n_estimators': 191, 'max_depth': 10, 'learning_rate': 0.050927490189600515, 'num_leaves': 1, 'min_child_samples': 71, 'min_child_weight': 9.440480784076076, 'reg_alpha': 13.729155861838514, 'reg_lambda': 0.8732926094103585} because of the following error: The value nan is not acceptable.\n",
      "[W 2024-05-03 20:36:51,533] Trial 28 failed with value nan.\n",
      "[I 2024-05-03 20:36:51,838] Trial 29 finished with value: 0.8369082367933499 and parameters: {'n_estimators': 200, 'max_depth': 10, 'learning_rate': 0.055224358671110724, 'num_leaves': 10, 'min_child_samples': 70, 'min_child_weight': 1.0546863910051711, 'reg_alpha': 13.773502930477154, 'reg_lambda': 0.8762483520552456}. Best is trial 16 with value: 0.8381353438070928.\n"
     ]
    }
   ],
   "source": [
    "def objective_lgbm(trial):\n",
    "    n_estimators = trial.suggest_int('n_estimators', 100, 200)\n",
    "    max_depth = trial.suggest_int('max_depth', -1, 15)\n",
    "    learning_rate = trial.suggest_loguniform('learning_rate', 0.01, 0.3)\n",
    "    num_leaves = trial.suggest_int('num_leaves', 1, 20)\n",
    "    min_child_samples = trial.suggest_int('min_child_samples', 5, 100)\n",
    "    min_child_weight = trial.suggest_float('min_child_weight', 0.001, 10.0)\n",
    "    reg_alpha = trial.suggest_float('reg_alpha', 10, 20)\n",
    "    reg_lambda = trial.suggest_float('reg_lambda', 0.0, 1.0)\n",
    "\n",
    "    classifier = LGBMClassifier(\n",
    "        n_estimators=n_estimators,\n",
    "        max_depth=max_depth,\n",
    "        learning_rate=learning_rate,\n",
    "        num_leaves=num_leaves,\n",
    "        min_child_samples=min_child_samples,\n",
    "        min_child_weight=min_child_weight,\n",
    "        reg_alpha=reg_alpha,\n",
    "        reg_lambda=reg_lambda,\n",
    "        random_state=42\n",
    "    )\n",
    "    score = cross_val_score(classifier, X_train, y_train, cv=5, scoring='roc_auc').mean()\n",
    "    return score\n",
    "study_lgbm = optuna.create_study(direction='maximize', study_name='LiGHT')\n",
    "study_lgbm.optimize(objective_lgbm, n_trials=30)"
   ]
  },
  {
   "cell_type": "code",
   "execution_count": 95,
   "metadata": {},
   "outputs": [
    {
     "data": {
      "text/plain": [
       "LGBMClassifier(learning_rate=0.07388971759712734, max_depth=13,\n",
       "               min_child_samples=99, min_child_weight=4.44063818637426,\n",
       "               n_estimators=170, num_leaves=7, reg_alpha=13.830564001085941,\n",
       "               reg_lambda=0.9890399424261587)"
      ]
     },
     "execution_count": 95,
     "metadata": {},
     "output_type": "execute_result"
    }
   ],
   "source": [
    "lgb_model2 = LGBMClassifier(**study_lgbm.best_params)\n",
    "lgb_model2.fit(X_train, y_train)"
   ]
  },
  {
   "cell_type": "code",
   "execution_count": 96,
   "metadata": {},
   "outputs": [
    {
     "name": "stdout",
     "output_type": "stream",
     "text": [
      "Best threshold for LightGBM is 0.35258536830185094 with F1 Score: 0.6657496561210454\n"
     ]
    }
   ],
   "source": [
    "def find_best_threshold(model, X, y):\n",
    "    # Predict probabilities\n",
    "    probas = model.predict_proba(X)[:, 1]\n",
    "    precision, recall, thresholds = precision_recall_curve(y, probas)\n",
    "    f1_scores = 2 * (precision * recall) / (precision + recall)\n",
    "    max_index = np.argmax(f1_scores)\n",
    "    return thresholds[max_index], f1_scores[max_index]\n",
    "models = {\n",
    "    'LightGBM': lgb_model2,\n",
    "}\n",
    "\n",
    "best_thresholds = {}\n",
    "for name, model in models.items():\n",
    "    best_threshold, max_f1 = find_best_threshold(model, X_val, y_val)\n",
    "    best_thresholds[name] = {'Threshold': best_threshold, 'Max F1': max_f1}\n",
    "    print(f\"Best threshold for {name} is {best_threshold} with F1 Score: {max_f1}\")"
   ]
  },
  {
   "cell_type": "markdown",
   "metadata": {},
   "source": [
    "### Esto nos permite identificar la capacidad de generalziación del modelo y evitar el sobre ajuste."
   ]
  },
  {
   "cell_type": "code",
   "execution_count": 97,
   "metadata": {},
   "outputs": [
    {
     "name": "stdout",
     "output_type": "stream",
     "text": [
      "0.8547390985683794\n"
     ]
    }
   ],
   "source": [
    "y_pred_proba_lgb = lgb_model2.predict_proba(X_train)[:, 1]\n",
    "y_pred_lgb = (y_pred_proba_lgb>best_threshold).astype(int)\n",
    "auc_lgb = roc_auc_score(y_train, y_pred_proba_lgb)\n",
    "tn_lgb, fp_lgb, fn_lgb, tp_lgb = confusion_matrix(y_train, y_pred_lgb).ravel()\n",
    "print(auc_lgb)"
   ]
  },
  {
   "cell_type": "code",
   "execution_count": 98,
   "metadata": {},
   "outputs": [
    {
     "name": "stdout",
     "output_type": "stream",
     "text": [
      "0.8582346788380166\n"
     ]
    }
   ],
   "source": [
    "y_pred_proba_lgb = lgb_model2.predict_proba(X_test)[:, 1]\n",
    "y_pred_lgb = lgb_model.predict(X_test)\n",
    "auc_lgb = roc_auc_score(y_test, y_pred_proba_lgb)\n",
    "tn_lgb, fp_lgb, fn_lgb, tp_lgb = confusion_matrix(y_test, y_pred_lgb).ravel()\n",
    "print(auc_lgb)"
   ]
  },
  {
   "cell_type": "code",
   "execution_count": 99,
   "metadata": {},
   "outputs": [
    {
     "name": "stdout",
     "output_type": "stream",
     "text": [
      "0.8528526957386141\n"
     ]
    }
   ],
   "source": [
    "\n",
    "y_pred_proba_lgb = lgb_model2.predict_proba(X_val)[:, 1]\n",
    "y_pred_lgb = (y_pred_proba_lgb>best_threshold).astype(int)\n",
    "auc_lgb = roc_auc_score(y_val, y_pred_proba_lgb)\n",
    "tn_lgb, fp_lgb, fn_lgb, tp_lgb = confusion_matrix(y_val, y_pred_lgb).ravel()\n",
    "print(auc_lgb)"
   ]
  },
  {
   "cell_type": "code",
   "execution_count": 100,
   "metadata": {},
   "outputs": [],
   "source": [
    "cm = confusion_matrix(y_val, y_pred_lgb)"
   ]
  },
  {
   "cell_type": "code",
   "execution_count": 101,
   "metadata": {},
   "outputs": [
    {
     "data": {
      "image/png": "[encoded data removed]",
      "text/plain": [
       "<Figure size 432x288 with 2 Axes>"
      ]
     },
     "metadata": {
      "needs_background": "light"
     },
     "output_type": "display_data"
    }
   ],
   "source": [
    "p = sns.heatmap(pd.DataFrame(cm), annot=True, cmap=\"YlGnBu\" ,fmt='g')\n",
    "plt.title('Confusion matrix', y=1.1)\n",
    "plt.ylabel('Actual label')\n",
    "plt.xlabel('Predicted label')\n",
    "cm = confusion_matrix(y_val, y_pred_lgb)\n"
   ]
  },
  {
   "cell_type": "code",
   "execution_count": 209,
   "metadata": {},
   "outputs": [
    {
     "data": {
      "image/png": "[encoded data removed]",
      "text/plain": [
       "<Figure size 432x288 with 1 Axes>"
      ]
     },
     "metadata": {
      "needs_background": "light"
     },
     "output_type": "display_data"
    }
   ],
   "source": [
    "from sklearn.metrics import roc_curve\n",
    "y_pred_proba = lgb_model2.predict_proba(X_val)\n",
    "fpr, tpr, thresholds = roc_curve(y_val, y_pred_proba_lgb)\n",
    "plt.plot([0,1],[0,1],'k--')\n",
    "plt.plot(fpr,tpr, label='ANN')\n",
    "plt.xlabel('fpr')\n",
    "plt.ylabel('tpr')\n",
    "plt.title('ROC curve')\n",
    "plt.show()"
   ]
  },
  {
   "cell_type": "code",
   "execution_count": 104,
   "metadata": {},
   "outputs": [],
   "source": [
    "### Ahora se refinará el ejercicio con SMOTE para tratar de identificar si se gana o no en performance condica metodologia"
   ]
  },
  {
   "cell_type": "code",
   "execution_count": 112,
   "metadata": {},
   "outputs": [],
   "source": [
    "oversample = SMOTE()\n",
    "X, y = oversample.fit_resample(X_train, y_train)## Sólo voy a afectar el train, luego procedo a realizar CV y luego valido con mi fuera de muestra y mantengo lo demás constante"
   ]
  },
  {
   "cell_type": "code",
   "execution_count": 160,
   "metadata": {},
   "outputs": [
    {
     "name": "stderr",
     "output_type": "stream",
     "text": [
      "[I 2024-05-03 20:50:18,846] A new study created in memory with name: LiGHT\n",
      "[I 2024-05-03 20:50:19,029] Trial 0 finished with value: 0.8607443976025898 and parameters: {'n_estimators': 142, 'max_depth': 1, 'learning_rate': 0.10609238494694545, 'num_leaves': 29, 'min_child_samples': 88, 'min_child_weight': 5.969665592491089, 'reg_alpha': 17.47783323897145, 'reg_lambda': 18.468837118755737}. Best is trial 0 with value: 0.8607443976025898.\n",
      "[I 2024-05-03 20:50:19,190] Trial 1 finished with value: 0.8336402515404575 and parameters: {'n_estimators': 119, 'max_depth': 1, 'learning_rate': 0.01995678211763168, 'num_leaves': 22, 'min_child_samples': 83, 'min_child_weight': 9.38175022425259, 'reg_alpha': 13.574207072853422, 'reg_lambda': 12.410749748831476}. Best is trial 0 with value: 0.8607443976025898.\n",
      "[I 2024-05-03 20:50:19,504] Trial 2 finished with value: 0.8725538830630652 and parameters: {'n_estimators': 123, 'max_depth': -1, 'learning_rate': 0.11302388398324333, 'num_leaves': 29, 'min_child_samples': 95, 'min_child_weight': 9.567055920477463, 'reg_alpha': 16.65995853429253, 'reg_lambda': 18.169949153910014}. Best is trial 2 with value: 0.8725538830630652.\n",
      "[I 2024-05-03 20:50:19,783] Trial 3 finished with value: 0.8718914891698194 and parameters: {'n_estimators': 109, 'max_depth': 0, 'learning_rate': 0.12689875464882244, 'num_leaves': 31, 'min_child_samples': 81, 'min_child_weight': 0.39002976148140217, 'reg_alpha': 19.461358873234367, 'reg_lambda': 17.79615709509814}. Best is trial 2 with value: 0.8725538830630652.\n",
      "[I 2024-05-03 20:50:20,062] Trial 4 finished with value: 0.8699885703461803 and parameters: {'n_estimators': 132, 'max_depth': 3, 'learning_rate': 0.061804632268441836, 'num_leaves': 29, 'min_child_samples': 95, 'min_child_weight': 1.247362186473168, 'reg_alpha': 15.25915338239177, 'reg_lambda': 12.226624434308647}. Best is trial 2 with value: 0.8725538830630652.\n",
      "[I 2024-05-03 20:50:20,234] Trial 5 finished with value: 0.8524994312922288 and parameters: {'n_estimators': 138, 'max_depth': 1, 'learning_rate': 0.039737167757294016, 'num_leaves': 25, 'min_child_samples': 81, 'min_child_weight': 8.707749790539891, 'reg_alpha': 12.75454384821375, 'reg_lambda': 14.943886062956489}. Best is trial 2 with value: 0.8725538830630652.\n",
      "[I 2024-05-03 20:50:20,569] Trial 6 finished with value: 0.8618284182564395 and parameters: {'n_estimators': 121, 'max_depth': 5, 'learning_rate': 0.011036385518319055, 'num_leaves': 26, 'min_child_samples': 74, 'min_child_weight': 5.2324071673559205, 'reg_alpha': 14.27204891706235, 'reg_lambda': 19.03049669458946}. Best is trial 2 with value: 0.8725538830630652.\n",
      "[I 2024-05-03 20:50:21,052] Trial 7 finished with value: 0.8710267945663448 and parameters: {'n_estimators': 117, 'max_depth': 0, 'learning_rate': 0.040987640531809574, 'num_leaves': 28, 'min_child_samples': 76, 'min_child_weight': 7.455511270733335, 'reg_alpha': 11.858352557792577, 'reg_lambda': 18.731549417044175}. Best is trial 2 with value: 0.8725538830630652.\n",
      "[I 2024-05-03 20:50:21,283] Trial 8 finished with value: 0.863611681326991 and parameters: {'n_estimators': 146, 'max_depth': 2, 'learning_rate': 0.04836977349043946, 'num_leaves': 22, 'min_child_samples': 80, 'min_child_weight': 4.52208329862302, 'reg_alpha': 12.651197933626253, 'reg_lambda': 15.086392309045774}. Best is trial 2 with value: 0.8725538830630652.\n",
      "[I 2024-05-03 20:50:21,507] Trial 9 finished with value: 0.8705103047555791 and parameters: {'n_estimators': 116, 'max_depth': 3, 'learning_rate': 0.16923876034462554, 'num_leaves': 27, 'min_child_samples': 65, 'min_child_weight': 9.722492269744349, 'reg_alpha': 18.324091374647686, 'reg_lambda': 12.913801514008986}. Best is trial 2 with value: 0.8725538830630652.\n",
      "[I 2024-05-03 20:50:21,938] Trial 10 finished with value: 0.8735775570509962 and parameters: {'n_estimators': 131, 'max_depth': -1, 'learning_rate': 0.0808051391575244, 'num_leaves': 31, 'min_child_samples': 52, 'min_child_weight': 3.1249938334368483, 'reg_alpha': 16.598435431756094, 'reg_lambda': 16.888864615972814}. Best is trial 10 with value: 0.8735775570509962.\n",
      "[I 2024-05-03 20:50:22,356] Trial 11 finished with value: 0.8736586438302822 and parameters: {'n_estimators': 129, 'max_depth': -1, 'learning_rate': 0.08657696907659619, 'num_leaves': 31, 'min_child_samples': 50, 'min_child_weight': 2.8390085505781477, 'reg_alpha': 16.674082669469797, 'reg_lambda': 16.82728446233868}. Best is trial 11 with value: 0.8736586438302822.\n",
      "[I 2024-05-03 20:50:22,825] Trial 12 finished with value: 0.8737796773914305 and parameters: {'n_estimators': 132, 'max_depth': -1, 'learning_rate': 0.07805181324639052, 'num_leaves': 31, 'min_child_samples': 51, 'min_child_weight': 2.9855561604230845, 'reg_alpha': 16.11899558980001, 'reg_lambda': 16.58055026797449}. Best is trial 12 with value: 0.8737796773914305.\n",
      "[I 2024-05-03 20:50:23,192] Trial 13 finished with value: 0.8741855733723511 and parameters: {'n_estimators': 131, 'max_depth': -1, 'learning_rate': 0.18999576729864676, 'num_leaves': 31, 'min_child_samples': 52, 'min_child_weight': 2.723225450087714, 'reg_alpha': 15.422836528324158, 'reg_lambda': 16.53681267452177}. Best is trial 13 with value: 0.8741855733723511.\n",
      "[I 2024-05-03 20:50:23,567] Trial 14 finished with value: 0.8747426530225061 and parameters: {'n_estimators': 137, 'max_depth': 0, 'learning_rate': 0.1883784817983526, 'num_leaves': 24, 'min_child_samples': 60, 'min_child_weight': 2.52150409590049, 'reg_alpha': 15.422716029122311, 'reg_lambda': 15.739367488977832}. Best is trial 14 with value: 0.8747426530225061.\n",
      "[I 2024-05-03 20:50:23,962] Trial 15 finished with value: 0.8745711213481527 and parameters: {'n_estimators': 140, 'max_depth': 0, 'learning_rate': 0.18909597447669316, 'num_leaves': 24, 'min_child_samples': 62, 'min_child_weight': 1.8557341374418828, 'reg_alpha': 14.648619740707105, 'reg_lambda': 15.143679072910974}. Best is trial 14 with value: 0.8747426530225061.\n",
      "[I 2024-05-03 20:50:24,306] Trial 16 finished with value: 0.874736025186621 and parameters: {'n_estimators': 149, 'max_depth': 0, 'learning_rate': 0.19093664746223654, 'num_leaves': 24, 'min_child_samples': 65, 'min_child_weight': 1.425197778984649, 'reg_alpha': 14.44465009814309, 'reg_lambda': 13.778715095261951}. Best is trial 14 with value: 0.8747426530225061.\n",
      "[I 2024-05-03 20:50:24,570] Trial 17 finished with value: 0.8582143897091491 and parameters: {'n_estimators': 149, 'max_depth': 2, 'learning_rate': 0.024766734591816053, 'num_leaves': 20, 'min_child_samples': 63, 'min_child_weight': 0.05628425741251686, 'reg_alpha': 11.242743933541341, 'reg_lambda': 13.947204165309527}. Best is trial 14 with value: 0.8747426530225061.\n",
      "[I 2024-05-03 20:50:24,917] Trial 18 finished with value: 0.873752518767658 and parameters: {'n_estimators': 145, 'max_depth': 4, 'learning_rate': 0.1322469546952795, 'num_leaves': 23, 'min_child_samples': 58, 'min_child_weight': 4.012700979454788, 'reg_alpha': 13.797810217990651, 'reg_lambda': 13.53647430182275}. Best is trial 14 with value: 0.8747426530225061.\n",
      "[I 2024-05-03 20:50:25,262] Trial 19 finished with value: 0.8723842365245214 and parameters: {'n_estimators': 150, 'max_depth': 0, 'learning_rate': 0.15023001276494297, 'num_leaves': 20, 'min_child_samples': 69, 'min_child_weight': 1.397890252064719, 'reg_alpha': 18.025495732089496, 'reg_lambda': 19.763362513713442}. Best is trial 14 with value: 0.8747426530225061.\n",
      "[I 2024-05-03 20:50:25,462] Trial 20 finished with value: 0.8399743138935113 and parameters: {'n_estimators': 101, 'max_depth': 1, 'learning_rate': 0.029344560886734487, 'num_leaves': 25, 'min_child_samples': 58, 'min_child_weight': 6.126486048209344, 'reg_alpha': 15.036244364542904, 'reg_lambda': 14.22382567105057}. Best is trial 14 with value: 0.8747426530225061.\n",
      "[I 2024-05-03 20:50:25,820] Trial 21 finished with value: 0.8747134113990693 and parameters: {'n_estimators': 138, 'max_depth': 0, 'learning_rate': 0.18880730961146786, 'num_leaves': 24, 'min_child_samples': 59, 'min_child_weight': 1.6864398476912896, 'reg_alpha': 14.324742604817322, 'reg_lambda': 15.413981992869454}. Best is trial 14 with value: 0.8747426530225061.\n",
      "[I 2024-05-03 20:50:26,192] Trial 22 finished with value: 0.8760199275444283 and parameters: {'n_estimators': 137, 'max_depth': 0, 'learning_rate': 0.19706210425125845, 'num_leaves': 23, 'min_child_samples': 69, 'min_child_weight': 1.9470079958626698, 'reg_alpha': 13.159477982538341, 'reg_lambda': 15.774943528942423}. Best is trial 22 with value: 0.8760199275444283.\n",
      "[I 2024-05-03 20:50:26,413] Trial 23 finished with value: 0.8627198968694982 and parameters: {'n_estimators': 135, 'max_depth': 1, 'learning_rate': 0.14192945362376602, 'num_leaves': 22, 'min_child_samples': 69, 'min_child_weight': 2.166291882684537, 'reg_alpha': 12.974542636675718, 'reg_lambda': 15.839174927874467}. Best is trial 22 with value: 0.8760199275444283.\n",
      "[I 2024-05-03 20:50:27,103] Trial 24 finished with value: 0.8751067888717265 and parameters: {'n_estimators': 145, 'max_depth': 0, 'learning_rate': 0.09957993783225431, 'num_leaves': 23, 'min_child_samples': 70, 'min_child_weight': 0.8881639648237134, 'reg_alpha': 13.398127983003452, 'reg_lambda': 14.413355356749992}. Best is trial 22 with value: 0.8760199275444283.\n",
      "[I 2024-05-03 20:50:27,390] Trial 25 finished with value: 0.8664802155750827 and parameters: {'n_estimators': 126, 'max_depth': 2, 'learning_rate': 0.09535186682366384, 'num_leaves': 21, 'min_child_samples': 70, 'min_child_weight': 0.6733177199776226, 'reg_alpha': 12.01698453431003, 'reg_lambda': 14.581341344086256}. Best is trial 22 with value: 0.8760199275444283.\n",
      "[I 2024-05-03 20:50:27,640] Trial 26 finished with value: 0.857314413205482 and parameters: {'n_estimators': 136, 'max_depth': 1, 'learning_rate': 0.06477760197964257, 'num_leaves': 23, 'min_child_samples': 74, 'min_child_weight': 3.769050123849431, 'reg_alpha': 13.426712674711107, 'reg_lambda': 16.01497727408054}. Best is trial 22 with value: 0.8760199275444283.\n",
      "[I 2024-05-03 20:50:28,122] Trial 27 finished with value: 0.878621180903363 and parameters: {'n_estimators': 142, 'max_depth': 0, 'learning_rate': 0.14925754841022815, 'num_leaves': 23, 'min_child_samples': 56, 'min_child_weight': 0.8595545418543221, 'reg_alpha': 11.188172359938008, 'reg_lambda': 17.390994454270885}. Best is trial 27 with value: 0.878621180903363.\n",
      "[I 2024-05-03 20:50:28,613] Trial 28 finished with value: 0.878024051919958 and parameters: {'n_estimators': 142, 'max_depth': -1, 'learning_rate': 0.1094129230639293, 'num_leaves': 21, 'min_child_samples': 56, 'min_child_weight': 0.6789757337992387, 'reg_alpha': 11.278279556083302, 'reg_lambda': 17.157561273203527}. Best is trial 27 with value: 0.878621180903363.\n",
      "[I 2024-05-03 20:50:29,125] Trial 29 finished with value: 0.8780253307960914 and parameters: {'n_estimators': 142, 'max_depth': -1, 'learning_rate': 0.11471732666159475, 'num_leaves': 21, 'min_child_samples': 54, 'min_child_weight': 0.0039457036899619435, 'reg_alpha': 11.387569264674308, 'reg_lambda': 17.506173842237928}. Best is trial 27 with value: 0.878621180903363.\n"
     ]
    }
   ],
   "source": [
    "def objective_lgbm(trial):\n",
    "    n_estimators = trial.suggest_int('n_estimators', 100, 150)\n",
    "    max_depth = trial.suggest_int('max_depth', -1, 5)\n",
    "    learning_rate = trial.suggest_loguniform('learning_rate', 0.01, 0.2)\n",
    "    num_leaves = trial.suggest_int('num_leaves', 20, 31)\n",
    "    min_child_samples = trial.suggest_int('min_child_samples', 50, 100)\n",
    "    min_child_weight = trial.suggest_float('min_child_weight', 0.001, 10.0)\n",
    "    reg_alpha = trial.suggest_float('reg_alpha', 11, 20)\n",
    "    reg_lambda = trial.suggest_float('reg_lambda', 12, 20)\n",
    "\n",
    "    classifier = LGBMClassifier(\n",
    "        n_estimators=n_estimators,\n",
    "        max_depth=max_depth,\n",
    "        learning_rate=learning_rate,\n",
    "        num_leaves=num_leaves,\n",
    "        min_child_samples=min_child_samples,\n",
    "        min_child_weight=min_child_weight,\n",
    "        reg_alpha=reg_alpha,\n",
    "        reg_lambda=reg_lambda,\n",
    "        random_state=42\n",
    "    )\n",
    "    score = cross_val_score(classifier, X, y, cv=5, scoring='roc_auc').mean()\n",
    "    return score\n",
    "study_lgbm = optuna.create_study(direction='maximize', study_name='LiGHT')\n",
    "study_lgbm.optimize(objective_lgbm, n_trials=30)"
   ]
  },
  {
   "cell_type": "code",
   "execution_count": 161,
   "metadata": {},
   "outputs": [
    {
     "data": {
      "text/plain": [
       "LGBMClassifier(learning_rate=0.14925754841022815, max_depth=0,\n",
       "               min_child_samples=56, min_child_weight=0.8595545418543221,\n",
       "               n_estimators=142, num_leaves=23, reg_alpha=11.188172359938008,\n",
       "               reg_lambda=17.390994454270885)"
      ]
     },
     "execution_count": 161,
     "metadata": {},
     "output_type": "execute_result"
    }
   ],
   "source": [
    "lgb_model3 = LGBMClassifier(**study_lgbm.best_params)\n",
    "lgb_model3.fit(X, y)"
   ]
  },
  {
   "cell_type": "code",
   "execution_count": 193,
   "metadata": {},
   "outputs": [],
   "source": [
    "models = {\n",
    "    'LightGBM': lgb_model3,\n",
    "}"
   ]
  },
  {
   "cell_type": "code",
   "execution_count": 194,
   "metadata": {},
   "outputs": [
    {
     "name": "stdout",
     "output_type": "stream",
     "text": [
      "Best threshold for LightGBM is 0.4294122693739029 with F1 Score: 0.646562123039807\n"
     ]
    }
   ],
   "source": [
    "\n",
    "best_thresholds = {}\n",
    "for name, model in models.items():\n",
    "    best_threshold, max_f1 = find_best_threshold(model, X_val, y_val)\n",
    "    best_thresholds[name] = {'Threshold': best_threshold, 'Max F1': max_f1}\n",
    "    print(f\"Best threshold for {name} is {best_threshold} with F1 Score: {max_f1}\")"
   ]
  },
  {
   "cell_type": "code",
   "execution_count": 195,
   "metadata": {},
   "outputs": [
    {
     "name": "stdout",
     "output_type": "stream",
     "text": [
      "0.8692708943627401\n"
     ]
    }
   ],
   "source": [
    "y_pred_proba_lgb = lgb_model3.predict_proba(X_train)[:, 1]\n",
    "y_pred_lgb = (y_pred_proba_lgb>best_threshold).astype(int)\n",
    "auc_lgb = roc_auc_score(y_train, y_pred_proba_lgb)\n",
    "tn_lgb, fp_lgb, fn_lgb, tp_lgb = confusion_matrix(y_train, y_pred_lgb).ravel()\n",
    "print(auc_lgb)"
   ]
  },
  {
   "cell_type": "code",
   "execution_count": 196,
   "metadata": {},
   "outputs": [
    {
     "name": "stdout",
     "output_type": "stream",
     "text": [
      "0.8394750426201004\n"
     ]
    }
   ],
   "source": [
    "y_pred_proba_lgb = lgb_model3.predict_proba(X_test)[:, 1]\n",
    "y_pred_lgb = lgb_model.predict(X_test)\n",
    "auc_lgb = roc_auc_score(y_test, y_pred_proba_lgb)\n",
    "tn_lgb, fp_lgb, fn_lgb, tp_lgb = confusion_matrix(y_test, y_pred_lgb).ravel()\n",
    "print(auc_lgb)"
   ]
  },
  {
   "cell_type": "code",
   "execution_count": 197,
   "metadata": {},
   "outputs": [
    {
     "name": "stdout",
     "output_type": "stream",
     "text": [
      "0.840315745415544\n"
     ]
    }
   ],
   "source": [
    "\n",
    "y_pred_proba_lgb = lgb_model3.predict_proba(X_val)[:, 1]\n",
    "y_pred_lgb = (y_pred_proba_lgb>best_threshold).astype(int)\n",
    "auc_lgb = roc_auc_score(y_val, y_pred_proba_lgb)\n",
    "tn_lgb, fp_lgb, fn_lgb, tp_lgb = confusion_matrix(y_val, y_pred_lgb).ravel()\n",
    "print(auc_lgb)"
   ]
  },
  {
   "cell_type": "code",
   "execution_count": 206,
   "metadata": {},
   "outputs": [
    {
     "data": {
      "image/png": "[encoded data removed]",
      "text/plain": [
       "<Figure size 432x288 with 2 Axes>"
      ]
     },
     "metadata": {
      "needs_background": "light"
     },
     "output_type": "display_data"
    }
   ],
   "source": [
    "\n",
    "\n",
    "cm3 = confusion_matrix(y_val, y_pred_lgb)\n",
    "p = sns.heatmap(pd.DataFrame(cm3), annot=True, cmap=\"YlGnBu\" ,fmt='g')\n",
    "plt.title('Confusion matrix', y=1.1)\n",
    "plt.ylabel('Actual label')\n",
    "plt.xlabel('Predicted label')\n",
    "cm3 = confusion_matrix(y_val, y_pred_lgb)"
   ]
  },
  {
   "cell_type": "code",
   "execution_count": 210,
   "metadata": {},
   "outputs": [
    {
     "data": {
      "image/png": "[encoded data removed]",
      "text/plain": [
       "<Figure size 432x288 with 1 Axes>"
      ]
     },
     "metadata": {
      "needs_background": "light"
     },
     "output_type": "display_data"
    }
   ],
   "source": [
    "from sklearn.metrics import roc_curve\n",
    "y_pred_proba = lgb_model3.predict_proba(X_val)\n",
    "fpr, tpr, thresholds = roc_curve(y_val, y_pred_proba_lgb)\n",
    "plt.plot([0,1],[0,1],'k--')\n",
    "plt.plot(fpr,tpr, label='ANN')\n",
    "plt.xlabel('fpr')\n",
    "plt.ylabel('tpr')\n",
    "plt.title('ROC curve')\n",
    "plt.show()"
   ]
  },
  {
   "attachments": {},
   "cell_type": "markdown",
   "metadata": {},
   "source": [
    "## Save all"
   ]
  },
  {
   "cell_type": "code",
   "execution_count": 168,
   "metadata": {},
   "outputs": [],
   "source": [
    "# Assuming models are stored in a dictionary like before\n",
    "models = {\n",
    "    'LightGBM': lgb_model3,\n",
    "}\n",
    "\n",
    "for name, model in models.items():\n",
    "    joblib.dump(model, f'objetos/{name.replace(\" \", \"_\")}_model.joblib')\n"
   ]
  },
  {
   "cell_type": "code",
   "execution_count": 169,
   "metadata": {},
   "outputs": [],
   "source": [
    "import pandas as pd\n",
    "\n",
    "X_train_df = pd.DataFrame(X)\n",
    "y_train_df = pd.DataFrame(y)\n",
    "\n"
   ]
  },
  {
   "cell_type": "code",
   "execution_count": 170,
   "metadata": {},
   "outputs": [],
   "source": [
    "# Save to CSV\n",
    "X_train_df.to_csv('objetos/datasets/X_train_smote.csv', index=False)\n",
    "y_train_df.to_csv('objetos/datasets/y_train_smote.csv', index=False)\n"
   ]
  },
  {
   "attachments": {},
   "cell_type": "markdown",
   "metadata": {},
   "source": [
    "### Para finalizar deseo realizar un ejercicio donde conn ayuda de optuna quiero apuntar a maximizar dos metricas importantes el AUC y la precisión"
   ]
  },
  {
   "cell_type": "code",
   "execution_count": 172,
   "metadata": {},
   "outputs": [
    {
     "name": "stderr",
     "output_type": "stream",
     "text": [
      "[I 2024-05-03 20:52:45,569] A new study created in memory with name: LiGHT\n",
      "[I 2024-05-03 20:52:46,918] Trial 0 finished with values: [0.8520379277260043, 0.731956822789793] and parameters: {'n_estimators': 146, 'max_depth': 2, 'learning_rate': 0.01618070586880396, 'num_leaves': 22, 'min_child_samples': 96, 'min_child_weight': 6.51596660510484, 'reg_alpha': 19.912027342816714, 'reg_lambda': 13.521722767453012}. \n",
      "[I 2024-05-03 20:52:47,942] Trial 1 finished with values: [0.869724654952282, 0.7612568507630738] and parameters: {'n_estimators': 138, 'max_depth': 4, 'learning_rate': 0.04553308971063885, 'num_leaves': 23, 'min_child_samples': 91, 'min_child_weight': 5.437733705223864, 'reg_alpha': 19.41382001507492, 'reg_lambda': 14.126863945495167}. \n",
      "[I 2024-05-03 20:52:48,928] Trial 2 finished with values: [0.8585252742420171, 0.7351322906571884] and parameters: {'n_estimators': 105, 'max_depth': 4, 'learning_rate': 0.013384723578627593, 'num_leaves': 26, 'min_child_samples': 95, 'min_child_weight': 9.66717229196476, 'reg_alpha': 13.869708437793028, 'reg_lambda': 14.400549714991225}. \n",
      "[I 2024-05-03 20:52:49,168] Trial 3 finished with values: [0.8721020344084037, 0.7706155369608426] and parameters: {'n_estimators': 107, 'max_depth': 0, 'learning_rate': 0.07103293691073688, 'num_leaves': 30, 'min_child_samples': 68, 'min_child_weight': 5.921020639485391, 'reg_alpha': 18.82864748028844, 'reg_lambda': 14.026466000323577}. \n",
      "[I 2024-05-03 20:52:49,390] Trial 4 finished with values: [0.8645838938219124, 0.7564330650937335] and parameters: {'n_estimators': 139, 'max_depth': 2, 'learning_rate': 0.060398499512251826, 'num_leaves': 21, 'min_child_samples': 70, 'min_child_weight': 1.254875693900317, 'reg_alpha': 12.669523496041236, 'reg_lambda': 17.687073063684643}. \n",
      "[I 2024-05-03 20:52:49,628] Trial 5 finished with values: [0.8598030476462798, 0.7484703310656065] and parameters: {'n_estimators': 138, 'max_depth': 1, 'learning_rate': 0.08341954698243277, 'num_leaves': 24, 'min_child_samples': 50, 'min_child_weight': 1.5582175804446994, 'reg_alpha': 12.948117020840376, 'reg_lambda': 16.678252099375314}. \n",
      "[I 2024-05-03 20:52:49,834] Trial 6 finished with values: [0.831262296590076, 0.6973625125079931] and parameters: {'n_estimators': 146, 'max_depth': 1, 'learning_rate': 0.015286039191060894, 'num_leaves': 24, 'min_child_samples': 99, 'min_child_weight': 6.66172676088105, 'reg_alpha': 16.108536510504152, 'reg_lambda': 16.967915837424158}. \n",
      "[I 2024-05-03 20:52:50,076] Trial 7 finished with values: [0.8720611912067614, 0.7649229338239889] and parameters: {'n_estimators': 107, 'max_depth': 4, 'learning_rate': 0.06922340198848123, 'num_leaves': 24, 'min_child_samples': 82, 'min_child_weight': 4.12046033450002, 'reg_alpha': 11.47977989906034, 'reg_lambda': 15.692258752576446}. \n",
      "[I 2024-05-03 20:52:50,307] Trial 8 finished with values: [0.8670463704198363, 0.7547622920343219] and parameters: {'n_estimators': 101, 'max_depth': 4, 'learning_rate': 0.034960182973505755, 'num_leaves': 30, 'min_child_samples': 89, 'min_child_weight': 1.9925107029067237, 'reg_alpha': 12.660473116175968, 'reg_lambda': 13.278161827525686}. \n",
      "[I 2024-05-03 20:52:50,560] Trial 9 finished with values: [0.8713485254166073, 0.7659176776066934] and parameters: {'n_estimators': 139, 'max_depth': 4, 'learning_rate': 0.08306484545096898, 'num_leaves': 21, 'min_child_samples': 99, 'min_child_weight': 5.581702476890304, 'reg_alpha': 19.913744399023322, 'reg_lambda': 17.878665607084717}. \n",
      "[I 2024-05-03 20:52:50,807] Trial 10 finished with values: [0.866977682103365, 0.7584911671560868] and parameters: {'n_estimators': 101, 'max_depth': -1, 'learning_rate': 0.023405287264801615, 'num_leaves': 21, 'min_child_samples': 64, 'min_child_weight': 1.6826399999726913, 'reg_alpha': 15.977977119590179, 'reg_lambda': 13.171960820761953}. \n",
      "[I 2024-05-03 20:52:51,060] Trial 11 finished with values: [0.8723082562011164, 0.7718193979407444] and parameters: {'n_estimators': 148, 'max_depth': 0, 'learning_rate': 0.1308124209475124, 'num_leaves': 26, 'min_child_samples': 81, 'min_child_weight': 3.459349024890519, 'reg_alpha': 17.811847693479898, 'reg_lambda': 14.356495015011436}. \n",
      "[I 2024-05-03 20:52:51,301] Trial 12 finished with values: [0.8649146890083914, 0.7488912816358988] and parameters: {'n_estimators': 147, 'max_depth': 3, 'learning_rate': 0.02512019776704604, 'num_leaves': 20, 'min_child_samples': 92, 'min_child_weight': 8.046893362114185, 'reg_alpha': 14.557667769193216, 'reg_lambda': 16.755037442275004}. \n",
      "[I 2024-05-03 20:52:51,520] Trial 13 finished with values: [0.8724678460679536, 0.770680019825161] and parameters: {'n_estimators': 106, 'max_depth': 0, 'learning_rate': 0.17681594450402008, 'num_leaves': 28, 'min_child_samples': 79, 'min_child_weight': 9.89915836795913, 'reg_alpha': 17.764301196093836, 'reg_lambda': 16.45895352158827}. \n",
      "[I 2024-05-03 20:52:51,770] Trial 14 finished with values: [0.8658717739670887, 0.7525952508704872] and parameters: {'n_estimators': 134, 'max_depth': 3, 'learning_rate': 0.03104206836453414, 'num_leaves': 25, 'min_child_samples': 52, 'min_child_weight': 6.720725714400688, 'reg_alpha': 12.462314318602768, 'reg_lambda': 16.926718671236657}. \n",
      "[I 2024-05-03 20:52:51,985] Trial 15 finished with values: [0.87057929469378, 0.7646249069843638] and parameters: {'n_estimators': 114, 'max_depth': 3, 'learning_rate': 0.10732299704223462, 'num_leaves': 22, 'min_child_samples': 64, 'min_child_weight': 4.85570853376401, 'reg_alpha': 18.422754548340833, 'reg_lambda': 12.85947398845368}. \n",
      "[I 2024-05-03 20:52:52,276] Trial 16 finished with values: [0.8660538467176467, 0.7568100755634803] and parameters: {'n_estimators': 127, 'max_depth': 0, 'learning_rate': 0.016589101222969128, 'num_leaves': 24, 'min_child_samples': 52, 'min_child_weight': 0.8318895891244706, 'reg_alpha': 15.702110562360563, 'reg_lambda': 14.045532570308211}. \n",
      "[I 2024-05-03 20:52:52,537] Trial 17 finished with values: [0.8715553154646589, 0.7614657273011545] and parameters: {'n_estimators': 141, 'max_depth': 4, 'learning_rate': 0.04720531072826932, 'num_leaves': 24, 'min_child_samples': 99, 'min_child_weight': 3.5875774594572203, 'reg_alpha': 11.315072023945454, 'reg_lambda': 15.527536495718186}. \n",
      "[I 2024-05-03 20:52:52,793] Trial 18 finished with values: [0.8628787061392993, 0.7432271552805512] and parameters: {'n_estimators': 133, 'max_depth': 3, 'learning_rate': 0.022326523976652673, 'num_leaves': 23, 'min_child_samples': 72, 'min_child_weight': 4.8920005919932095, 'reg_alpha': 11.117985986228113, 'reg_lambda': 16.96803752783221}. \n",
      "[I 2024-05-03 20:52:53,024] Trial 19 finished with values: [0.8708951161711171, 0.7622651392553756] and parameters: {'n_estimators': 107, 'max_depth': 4, 'learning_rate': 0.06623353442086936, 'num_leaves': 31, 'min_child_samples': 71, 'min_child_weight': 7.90360566653567, 'reg_alpha': 15.987800261085706, 'reg_lambda': 16.61701283613307}. \n",
      "[I 2024-05-03 20:52:53,273] Trial 20 finished with values: [0.8698484887695674, 0.763365730698471] and parameters: {'n_estimators': 122, 'max_depth': -1, 'learning_rate': 0.032597128668290565, 'num_leaves': 20, 'min_child_samples': 64, 'min_child_weight': 0.2889911661828512, 'reg_alpha': 14.690643587973373, 'reg_lambda': 19.141827819599722}. \n",
      "[I 2024-05-03 20:52:53,559] Trial 21 finished with values: [0.8698977502336813, 0.7660402055259308] and parameters: {'n_estimators': 147, 'max_depth': 0, 'learning_rate': 0.02754261144249336, 'num_leaves': 29, 'min_child_samples': 84, 'min_child_weight': 9.03567748791795, 'reg_alpha': 14.310327989920832, 'reg_lambda': 13.614473849384233}. \n",
      "[I 2024-05-03 20:52:53,860] Trial 22 finished with values: [0.867733888196667, 0.757429324115989] and parameters: {'n_estimators': 113, 'max_depth': -1, 'learning_rate': 0.023884516082292983, 'num_leaves': 24, 'min_child_samples': 50, 'min_child_weight': 2.615055333449662, 'reg_alpha': 17.13720354805394, 'reg_lambda': 12.413861595192337}. \n",
      "[I 2024-05-03 20:52:54,104] Trial 23 finished with values: [0.8667329661390397, 0.7510312817298563] and parameters: {'n_estimators': 106, 'max_depth': 5, 'learning_rate': 0.027079827993727348, 'num_leaves': 28, 'min_child_samples': 66, 'min_child_weight': 1.6548487462080497, 'reg_alpha': 15.915742620435037, 'reg_lambda': 17.47315414240799}. \n",
      "[I 2024-05-03 20:52:54,329] Trial 24 finished with values: [0.8725910754352929, 0.7641749366329734] and parameters: {'n_estimators': 138, 'max_depth': 3, 'learning_rate': 0.12060954750310532, 'num_leaves': 20, 'min_child_samples': 82, 'min_child_weight': 2.0506211069417666, 'reg_alpha': 13.413487435761049, 'reg_lambda': 13.336716181658996}. \n",
      "[I 2024-05-03 20:52:54,570] Trial 25 finished with values: [0.8732864414095266, 0.7669471527702422] and parameters: {'n_estimators': 116, 'max_depth': 4, 'learning_rate': 0.08434743403613605, 'num_leaves': 20, 'min_child_samples': 89, 'min_child_weight': 4.999995748418718, 'reg_alpha': 11.468584073653666, 'reg_lambda': 15.385286539518152}. \n",
      "[I 2024-05-03 20:52:54,884] Trial 26 finished with values: [0.8709702000747418, 0.7656647059180821] and parameters: {'n_estimators': 147, 'max_depth': 0, 'learning_rate': 0.02822228014981497, 'num_leaves': 21, 'min_child_samples': 60, 'min_child_weight': 8.246931832252503, 'reg_alpha': 11.51577518059422, 'reg_lambda': 16.429751904599996}. \n",
      "[I 2024-05-03 20:52:55,110] Trial 27 finished with values: [0.8686667227683085, 0.7586055901461207] and parameters: {'n_estimators': 128, 'max_depth': 3, 'learning_rate': 0.0465182505734264, 'num_leaves': 20, 'min_child_samples': 75, 'min_child_weight': 3.168168554484275, 'reg_alpha': 12.763184075581751, 'reg_lambda': 15.168670699324892}. \n",
      "[I 2024-05-03 20:52:55,308] Trial 28 finished with values: [0.8304660725321839, 0.6973625125079931] and parameters: {'n_estimators': 106, 'max_depth': 1, 'learning_rate': 0.021239789079132366, 'num_leaves': 27, 'min_child_samples': 63, 'min_child_weight': 8.546155368629785, 'reg_alpha': 18.829674048560936, 'reg_lambda': 18.461823057087358}. \n",
      "[I 2024-05-03 20:52:55,537] Trial 29 finished with values: [0.8230957374515558, 0.688090400362648] and parameters: {'n_estimators': 128, 'max_depth': 1, 'learning_rate': 0.013182300528648218, 'num_leaves': 22, 'min_child_samples': 98, 'min_child_weight': 4.684172423952824, 'reg_alpha': 11.959924211119311, 'reg_lambda': 15.802436004667175}. \n"
     ]
    }
   ],
   "source": [
    "def objective_lgbm(trial):\n",
    "    n_estimators = trial.suggest_int('n_estimators', 100, 150)\n",
    "    max_depth = trial.suggest_int('max_depth', -1, 5)\n",
    "    learning_rate = trial.suggest_loguniform('learning_rate', 0.01, 0.2)\n",
    "    num_leaves = trial.suggest_int('num_leaves', 20, 31)\n",
    "    min_child_samples = trial.suggest_int('min_child_samples', 50, 100)\n",
    "    min_child_weight = trial.suggest_float('min_child_weight', 0.001, 10.0)\n",
    "    reg_alpha = trial.suggest_float('reg_alpha', 11, 20)\n",
    "    reg_lambda = trial.suggest_float('reg_lambda', 12, 20)\n",
    "\n",
    "    classifier = LGBMClassifier(\n",
    "        n_estimators=n_estimators,\n",
    "        max_depth=max_depth,\n",
    "        learning_rate=learning_rate,\n",
    "        num_leaves=num_leaves,\n",
    "        min_child_samples=min_child_samples,\n",
    "        min_child_weight=min_child_weight,\n",
    "        reg_alpha=reg_alpha,\n",
    "        reg_lambda=reg_lambda,\n",
    "        random_state=42\n",
    "    )\n",
    "\n",
    "    scores = cross_validate(classifier, X, y, cv=5, scoring={'roc_auc': 'roc_auc', 'precision': 'precision'}, n_jobs=-1)\n",
    "    mean_roc_auc = scores['test_roc_auc'].mean()\n",
    "    mean_precision = scores['test_precision'].mean()\n",
    "    return mean_roc_auc, mean_precision\n",
    "\n",
    "study_lgbm = optuna.create_study(directions=['maximize', 'maximize'], study_name='LiGHT')\n",
    "study_lgbm.optimize(objective_lgbm, n_trials=30)\n",
    "\n"
   ]
  },
  {
   "cell_type": "code",
   "execution_count": 179,
   "metadata": {},
   "outputs": [
    {
     "name": "stdout",
     "output_type": "stream",
     "text": [
      "Best Trial 1:\n",
      "  Value:  [0.8723082562011164, 0.7718193979407444]\n",
      "  Params: \n",
      "    n_estimators: 148\n",
      "    max_depth: 0\n",
      "    learning_rate: 0.1308124209475124\n",
      "    num_leaves: 26\n",
      "    min_child_samples: 81\n",
      "    min_child_weight: 3.459349024890519\n",
      "    reg_alpha: 17.811847693479898\n",
      "    reg_lambda: 14.356495015011436\n",
      "Best Trial 2:\n",
      "  Value:  [0.8724678460679536, 0.770680019825161]\n",
      "  Params: \n",
      "    n_estimators: 106\n",
      "    max_depth: 0\n",
      "    learning_rate: 0.17681594450402008\n",
      "    num_leaves: 28\n",
      "    min_child_samples: 79\n",
      "    min_child_weight: 9.89915836795913\n",
      "    reg_alpha: 17.764301196093836\n",
      "    reg_lambda: 16.45895352158827\n",
      "Best Trial 3:\n",
      "  Value:  [0.8732864414095266, 0.7669471527702422]\n",
      "  Params: \n",
      "    n_estimators: 116\n",
      "    max_depth: 4\n",
      "    learning_rate: 0.08434743403613605\n",
      "    num_leaves: 20\n",
      "    min_child_samples: 89\n",
      "    min_child_weight: 4.999995748418718\n",
      "    reg_alpha: 11.468584073653666\n",
      "    reg_lambda: 15.385286539518152\n"
     ]
    }
   ],
   "source": [
    "# Display the best trial information\n",
    "best_trials = study_lgbm.best_trials\n",
    "for idx, trial in enumerate(best_trials):\n",
    "    print(f\"Best Trial {idx + 1}:\")\n",
    "    print(\"  Value: \", trial.values)\n",
    "    print(\"  Params: \")\n",
    "    for key, value in trial.params.items():\n",
    "        print(f\"    {key}: {value}\")\n"
   ]
  },
  {
   "cell_type": "code",
   "execution_count": 191,
   "metadata": {},
   "outputs": [],
   "source": [
    "params={'n_estimators': 116, 'max_depth': 4, 'learning_rate': 0.08434743403613605, 'num_leaves': 20, 'min_child_samples': 89, 'min_child_weight': 4.999995748418718, 'reg_alpha': 11.468584073653666, 'reg_lambda': 15.385286539518152}"
   ]
  },
  {
   "cell_type": "code",
   "execution_count": 200,
   "metadata": {},
   "outputs": [],
   "source": [
    "models = {\n",
    "    'LightGBM': lgb_model4,\n",
    "}"
   ]
  },
  {
   "cell_type": "code",
   "execution_count": 201,
   "metadata": {},
   "outputs": [
    {
     "data": {
      "text/plain": [
       "LGBMClassifier(learning_rate=0.08434743403613605, max_depth=4,\n",
       "               min_child_samples=89, min_child_weight=4.999995748418718,\n",
       "               n_estimators=116, num_leaves=20, reg_alpha=11.468584073653666,\n",
       "               reg_lambda=15.385286539518152)"
      ]
     },
     "execution_count": 201,
     "metadata": {},
     "output_type": "execute_result"
    }
   ],
   "source": [
    "lgb_model4 = LGBMClassifier(**params)\n",
    "lgb_model4.fit(X, y)"
   ]
  },
  {
   "cell_type": "code",
   "execution_count": 202,
   "metadata": {},
   "outputs": [
    {
     "name": "stdout",
     "output_type": "stream",
     "text": [
      "Best threshold for LightGBM is 0.5150644644892547 with F1 Score: 0.6616352201257861\n"
     ]
    }
   ],
   "source": [
    "\n",
    "best_thresholds = {}\n",
    "for name, model in models.items():\n",
    "    best_threshold, max_f1 = find_best_threshold(model, X_val, y_val)\n",
    "    best_thresholds[name] = {'Threshold': best_threshold, 'Max F1': max_f1}\n",
    "    print(f\"Best threshold for {name} is {best_threshold} with F1 Score: {max_f1}\")"
   ]
  },
  {
   "cell_type": "code",
   "execution_count": 203,
   "metadata": {},
   "outputs": [
    {
     "name": "stdout",
     "output_type": "stream",
     "text": [
      "0.8692708943627401\n"
     ]
    }
   ],
   "source": [
    "y_pred_proba_lgb = lgb_model4.predict_proba(X_train)[:, 1]\n",
    "y_pred_lgb = (y_pred_proba_lgb>best_threshold).astype(int)\n",
    "auc_lgb = roc_auc_score(y_train, y_pred_proba_lgb)\n",
    "tn_lgb, fp_lgb, fn_lgb, tp_lgb = confusion_matrix(y_train, y_pred_lgb).ravel()\n",
    "print(auc_lgb)"
   ]
  },
  {
   "cell_type": "code",
   "execution_count": 204,
   "metadata": {},
   "outputs": [
    {
     "name": "stdout",
     "output_type": "stream",
     "text": [
      "0.8462410543069507\n"
     ]
    }
   ],
   "source": [
    "y_pred_proba_lgb = lgb_model4.predict_proba(X_test)[:, 1]\n",
    "y_pred_lgb = lgb_model.predict(X_test)\n",
    "auc_lgb = roc_auc_score(y_test, y_pred_proba_lgb)\n",
    "tn_lgb, fp_lgb, fn_lgb, tp_lgb = confusion_matrix(y_test, y_pred_lgb).ravel()\n",
    "print(auc_lgb)"
   ]
  },
  {
   "cell_type": "code",
   "execution_count": 205,
   "metadata": {},
   "outputs": [
    {
     "name": "stdout",
     "output_type": "stream",
     "text": [
      "0.8444048055039632\n"
     ]
    }
   ],
   "source": [
    "\n",
    "y_pred_proba_lgb = lgb_model4.predict_proba(X_val)[:, 1]\n",
    "y_pred_lgb = (y_pred_proba_lgb>best_threshold).astype(int)\n",
    "auc_lgb = roc_auc_score(y_val, y_pred_proba_lgb)\n",
    "tn_lgb, fp_lgb, fn_lgb, tp_lgb = confusion_matrix(y_val, y_pred_lgb).ravel()\n",
    "print(auc_lgb)"
   ]
  },
  {
   "cell_type": "code",
   "execution_count": 207,
   "metadata": {},
   "outputs": [
    {
     "data": {
      "image/png": "[encoded data removed]",
      "text/plain": [
       "<Figure size 432x288 with 2 Axes>"
      ]
     },
     "metadata": {
      "needs_background": "light"
     },
     "output_type": "display_data"
    }
   ],
   "source": [
    "cm4 = confusion_matrix(y_val, y_pred_lgb)\n",
    "p = sns.heatmap(pd.DataFrame(cm3), annot=True, cmap=\"YlGnBu\" ,fmt='g')\n",
    "plt.title('Confusion matrix', y=1.1)\n",
    "plt.ylabel('Actual label')\n",
    "plt.xlabel('Predicted label')\n",
    "cm4 = confusion_matrix(y_val, y_pred_lgb)"
   ]
  },
  {
   "cell_type": "code",
   "execution_count": 211,
   "metadata": {},
   "outputs": [
    {
     "data": {
      "image/png": "[encoded data removed]",
      "text/plain": [
       "<Figure size 432x288 with 1 Axes>"
      ]
     },
     "metadata": {
      "needs_background": "light"
     },
     "output_type": "display_data"
    }
   ],
   "source": [
    "from sklearn.metrics import roc_curve\n",
    "y_pred_proba = lgb_model4.predict_proba(X_val)\n",
    "fpr, tpr, thresholds = roc_curve(y_val, y_pred_proba_lgb)\n",
    "plt.plot([0,1],[0,1],'k--')\n",
    "plt.plot(fpr,tpr, label='ANN')\n",
    "plt.xlabel('fpr')\n",
    "plt.ylabel('tpr')\n",
    "plt.title('ROC curve')\n",
    "plt.show()"
   ]
  },
  {
   "attachments": {},
   "cell_type": "markdown",
   "metadata": {},
   "source": [
    "### Se logra un mejor modelo con el ultimo ejercicio donde se controla el overfitting y se trata de minimizar los individuos que se predicen como no churn uy en realidad se van"
   ]
  },
  {
   "cell_type": "code",
   "execution_count": 208,
   "metadata": {},
   "outputs": [],
   "source": [
    "#guardo el modelo final\n",
    "models = {\n",
    "    'LightGBM_final_con_smote': lgb_model4,\n",
    "}\n",
    "\n",
    "for name, model in models.items():\n",
    "    joblib.dump(model, f'objetos/{name.replace(\" \", \"_\")}_model.joblib')\n"
   ]
  },
  {
   "cell_type": "code",
   "execution_count": null,
   "metadata": {},
   "outputs": [],
   "source": []
  }
 ],
 "metadata": {
  "kernelspec": {
   "display_name": "myenv",
   "language": "python",
   "name": "python3"
  },
  "language_info": {
   "codemirror_mode": {
    "name": "ipython",
    "version": 3
   },
   "file_extension": ".py",
   "mimetype": "text/x-python",
   "name": "python",
   "nbconvert_exporter": "python",
   "pygments_lexer": "ipython3",
   "version": "3.7.9"
  },
  "orig_nbformat": 4
 },
 "nbformat": 4,
 "nbformat_minor": 2
}
